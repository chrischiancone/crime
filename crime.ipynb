{
 "cells": [
  {
   "cell_type": "code",
   "execution_count": 1,
   "metadata": {
    "collapsed": false
   },
   "outputs": [
    {
     "name": "stdout",
     "output_type": "stream",
     "text": [
      "Populating the interactive namespace from numpy and matplotlib\n"
     ]
    },
    {
     "name": "stderr",
     "output_type": "stream",
     "text": [
      "/Library/Python/2.7/site-packages/IPython/html.py:14: ShimWarning: The `IPython.html` package has been deprecated. You should import from `notebook` instead. `IPython.html.widgets` has moved to `ipywidgets`.\n",
      "  \"`IPython.html.widgets` has moved to `ipywidgets`.\", ShimWarning)\n"
     ]
    },
    {
     "data": {
      "text/html": [
       "<style>\n",
       ".container { width:100% !important; }\n",
       "</style>"
      ],
      "text/plain": [
       "<IPython.core.display.HTML object>"
      ]
     },
     "execution_count": 1,
     "metadata": {},
     "output_type": "execute_result"
    }
   ],
   "source": [
    "#imports\n",
    "import pandas as pd\n",
    "import numpy as np\n",
    "import matplotlib.pyplot as plt\n",
    "import time as systime\n",
    "import datetime as dtime\n",
    "import string\n",
    "import seaborn as sns\n",
    "from sklearn import preprocessing\n",
    "from sklearn.cross_validation import train_test_split #for splitting the training set\n",
    "from sklearn.metrics import log_loss #evaluation metric\n",
    "from sklearn.ensemble import AdaBoostClassifier, GradientBoostingClassifier, RandomForestClassifier\n",
    "from sklearn.tree import DecisionTreeClassifier\n",
    "from sklearn.naive_bayes import BernoulliNB\n",
    "from sklearn.linear_model import LogisticRegression\n",
    "\n",
    "%pylab inline\n",
    "\n",
    "from IPython.core.display import HTML\n",
    "def css_styling():\n",
    "    styles = open(\"style.css\", \"r\").read()\n",
    "    return HTML(styles)\n",
    "css_styling()"
   ]
  },
  {
   "cell_type": "code",
   "execution_count": 2,
   "metadata": {
    "collapsed": true
   },
   "outputs": [],
   "source": [
    "def normalize(data): #feature normalization\n",
    "    data = (data - data.mean()) / (data.max() - data.min())\n",
    "    return data\n",
    "\n",
    "num2month={1:'jan',2:'feb',3:'mar',4:'apr',5:'may',6:'jun',7:'jul',8:'aug',9:'sep',10:'oct',11:'nov',12:'dec'}"
   ]
  },
  {
   "cell_type": "code",
   "execution_count": 3,
   "metadata": {
    "collapsed": false
   },
   "outputs": [],
   "source": [
    "train=pd.read_csv('data/train.csv', parse_dates = ['Dates'])\n",
    "test=pd.read_csv('data/test.csv', parse_dates = ['Dates'])\n",
    "\n",
    "#train.info()"
   ]
  },
  {
   "cell_type": "code",
   "execution_count": 4,
   "metadata": {
    "collapsed": false
   },
   "outputs": [],
   "source": [
    "def prep_data(data, istest):\n",
    "    if(istest==0):\n",
    "        #Convert crime labels to numbers\n",
    "        le_crime = preprocessing.LabelEncoder()\n",
    "        crime = le_crime.fit_transform(data.Category)\n",
    " \n",
    "    #Get binarized weekdays, districts, and hours.\n",
    "    days = pd.get_dummies(data.DayOfWeek)\n",
    "    district = pd.get_dummies(data.PdDistrict)\n",
    "    month = pd.get_dummies(data.Dates.dt.month.map(num2month))\n",
    "    hour = data.Dates.dt.hour\n",
    "    hour = pd.get_dummies(hour) \n",
    " \n",
    "    #Build new array\n",
    "    new_data = pd.concat([hour, month, days, district], axis=1)\n",
    "    new_data['X']=normalize(data.X)\n",
    "    new_data['Y']=normalize(data.Y)\n",
    "    #train_data['hour']=normalize(train.Dates.dt.hour)\n",
    "    if(istest==0):\n",
    "        new_data['crime']=crime\n",
    "        \n",
    "    new_data['dark'] = data.Dates.dt.hour.apply(lambda x: 1 if (x >= 18 or x < 6) else 0)\n",
    "    return new_data\n",
    "\n",
    "train_proc = prep_data(train,0)\n",
    "test_proc = prep_data(test,1)"
   ]
  },
  {
   "cell_type": "code",
   "execution_count": 16,
   "metadata": {
    "collapsed": false
   },
   "outputs": [
    {
     "data": {
      "text/plain": [
       "2.5844812045165786"
      ]
     },
     "execution_count": 16,
     "metadata": {},
     "output_type": "execute_result"
    }
   ],
   "source": [
    "features = [#'hour',\n",
    "            #'dark',\n",
    "            'jan','feb','mar','apr','may','jun','jul','aug','sep','oct','nov','dec',\n",
    "            'Friday', 'Monday', 'Saturday', 'Sunday', 'Thursday', 'Tuesday', 'Wednesday', \n",
    "            'BAYVIEW', 'CENTRAL', 'INGLESIDE', 'MISSION','NORTHERN', 'PARK', 'RICHMOND', 'SOUTHERN', 'TARAVAL', 'TENDERLOIN',\n",
    "            #'X','Y'\n",
    "           ] + [x for x in range(0,24)]\n",
    " \n",
    "training, validation = train_test_split(train_proc, train_size=.67)\n",
    "model = BernoulliNB()\n",
    "model.fit(training[features], training['crime'])\n",
    "predicted = np.array(model.predict_proba(validation[features]))\n",
    "log_loss(validation['crime'], predicted) "
   ]
  },
  {
   "cell_type": "code",
   "execution_count": 12,
   "metadata": {
    "collapsed": false
   },
   "outputs": [],
   "source": [
    "model = BernoulliNB()\n",
    "model.fit(train_proc[features], train_proc['crime'])\n",
    "predicted = model.predict_proba(test_proc[features])\n",
    " "
   ]
  },
  {
   "cell_type": "code",
   "execution_count": 17,
   "metadata": {
    "collapsed": false
   },
   "outputs": [
    {
     "name": "stdout",
     "output_type": "stream",
     "text": [
      "<class 'pandas.core.frame.DataFrame'>\n",
      "Int64Index: 884262 entries, 0 to 884261\n",
      "Data columns (total 39 columns):\n",
      "ARSON                          884262 non-null float64\n",
      "ASSAULT                        884262 non-null float64\n",
      "BAD CHECKS                     884262 non-null float64\n",
      "BRIBERY                        884262 non-null float64\n",
      "BURGLARY                       884262 non-null float64\n",
      "DISORDERLY CONDUCT             884262 non-null float64\n",
      "DRIVING UNDER THE INFLUENCE    884262 non-null float64\n",
      "DRUG/NARCOTIC                  884262 non-null float64\n",
      "DRUNKENNESS                    884262 non-null float64\n",
      "EMBEZZLEMENT                   884262 non-null float64\n",
      "EXTORTION                      884262 non-null float64\n",
      "FAMILY OFFENSES                884262 non-null float64\n",
      "FORGERY/COUNTERFEITING         884262 non-null float64\n",
      "FRAUD                          884262 non-null float64\n",
      "GAMBLING                       884262 non-null float64\n",
      "KIDNAPPING                     884262 non-null float64\n",
      "LARCENY/THEFT                  884262 non-null float64\n",
      "LIQUOR LAWS                    884262 non-null float64\n",
      "LOITERING                      884262 non-null float64\n",
      "MISSING PERSON                 884262 non-null float64\n",
      "NON-CRIMINAL                   884262 non-null float64\n",
      "OTHER OFFENSES                 884262 non-null float64\n",
      "PORNOGRAPHY/OBSCENE MAT        884262 non-null float64\n",
      "PROSTITUTION                   884262 non-null float64\n",
      "RECOVERED VEHICLE              884262 non-null float64\n",
      "ROBBERY                        884262 non-null float64\n",
      "RUNAWAY                        884262 non-null float64\n",
      "SECONDARY CODES                884262 non-null float64\n",
      "SEX OFFENSES FORCIBLE          884262 non-null float64\n",
      "SEX OFFENSES NON FORCIBLE      884262 non-null float64\n",
      "STOLEN PROPERTY                884262 non-null float64\n",
      "SUICIDE                        884262 non-null float64\n",
      "SUSPICIOUS OCC                 884262 non-null float64\n",
      "TREA                           884262 non-null float64\n",
      "TRESPASS                       884262 non-null float64\n",
      "VANDALISM                      884262 non-null float64\n",
      "VEHICLE THEFT                  884262 non-null float64\n",
      "WARRANTS                       884262 non-null float64\n",
      "WEAPON LAWS                    884262 non-null float64\n",
      "dtypes: float64(39)\n",
      "memory usage: 269.9 MB\n"
     ]
    }
   ],
   "source": [
    "#Write results\n",
    "le_crime = preprocessing.LabelEncoder()\n",
    "crime = le_crime.fit_transform(train.Category)\n",
    "result=pd.DataFrame(predicted, columns=le_crime.classes_)\n",
    "result.to_csv('submit.csv', index = True, index_label = 'Id' )"
   ]
  },
  {
   "cell_type": "code",
   "execution_count": null,
   "metadata": {
    "collapsed": true
   },
   "outputs": [],
   "source": []
  }
 ],
 "metadata": {
  "kernelspec": {
   "display_name": "Python 2",
   "language": "python",
   "name": "python2"
  },
  "language_info": {
   "codemirror_mode": {
    "name": "ipython",
    "version": 2
   },
   "file_extension": ".py",
   "mimetype": "text/x-python",
   "name": "python",
   "nbconvert_exporter": "python",
   "pygments_lexer": "ipython2",
   "version": "2.7.6"
  }
 },
 "nbformat": 4,
 "nbformat_minor": 0
}
